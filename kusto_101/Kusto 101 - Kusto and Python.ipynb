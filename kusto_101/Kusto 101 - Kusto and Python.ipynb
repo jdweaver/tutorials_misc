{
 "cells": [
  {
   "cell_type": "markdown",
   "metadata": {},
   "source": [
    "# Kustuo 101 - Python SDK and Kqlmagic"
   ]
  },
  {
   "cell_type": "markdown",
   "metadata": {},
   "source": [
    "#### The Python SDK allows you to query Kusto clusters and ingest data from Kusto for pipelining purposes. For this tutorial, we are only concerned with the azure-kusto-data module. \n",
    "Documentation [here](https://github.com/Azure/azure-kusto-python)"
   ]
  },
  {
   "cell_type": "markdown",
   "metadata": {},
   "source": [
    "## Python SDK"
   ]
  },
  {
   "cell_type": "markdown",
   "metadata": {},
   "source": [
    "#### Install Azure Log Analytics Package"
   ]
  },
  {
   "cell_type": "code",
   "execution_count": null,
   "metadata": {},
   "outputs": [],
   "source": [
    "#install python kusto module, allows us to connect to kusto databases\n",
    "# use this syntax to update a current version \n",
    "!pip install --upgrade azure-kusto-data\n",
    "\n",
    "#use this syntax to install for the first time \n",
    "!pip install azure-kusto-data"
   ]
  },
  {
   "cell_type": "code",
   "execution_count": null,
   "metadata": {},
   "outputs": [],
   "source": [
    "!pip install azure-common \n",
    "! pip install azure-mgmt-sql\n",
    "! pip install azure-mgmt-resource\n",
    "! pip install azure-mgmt-rdbms\n",
    "! pip install azure-storage"
   ]
  },
  {
   "cell_type": "code",
   "execution_count": 1,
   "metadata": {},
   "outputs": [],
   "source": [
    "import pandas as pd\n",
    "import numpy as np\n",
    "from azure.kusto.data.request import KustoClient, KustoConnectionStringBuilder\n",
    "from azure.kusto.data.exceptions import KustoServiceError\n",
    "from azure.kusto.data.helpers import dataframe_from_result_table"
   ]
  },
  {
   "cell_type": "markdown",
   "metadata": {},
   "source": [
    "#### Set the cluster, create a connection string, create a client connection, and specify the database to work in"
   ]
  },
  {
   "cell_type": "code",
   "execution_count": 2,
   "metadata": {},
   "outputs": [],
   "source": [
    "cluster = \"https://help.kusto.windows.net\"\n",
    "kcsb = KustoConnectionStringBuilder.with_aad_device_authentication(cluster)\n",
    "client = KustoClient(kcsb)\n",
    "db = \"Samples\" \n",
    "#specify the database, in this case Samples containes the StormEvents table. Setting as a variable but you could do this explicitly in the execute function"
   ]
  },
  {
   "cell_type": "markdown",
   "metadata": {},
   "source": [
    "##### Running the client.execute() code below will open a window which prompts you for a code which should appear below. Once entered you should be able to use kusto in Python.\n",
    "##### Note!: you will have to do this every time you run Kusto in your notebook, but only once per Kernel. This is only for this particular cluster. "
   ]
  },
  {
   "cell_type": "code",
   "execution_count": 3,
   "metadata": {},
   "outputs": [
    {
     "name": "stdout",
     "output_type": "stream",
     "text": [
      "To sign in, use a web browser to open the page https://microsoft.com/devicelogin and enter the code BNE8P7SKP to authenticate.\n"
     ]
    }
   ],
   "source": [
    "query = \"StormEvents | take 10\" #write out the Kusto query with no line breaks\n",
    "\n",
    "response = client.execute(db, query) #this executes the query"
   ]
  },
  {
   "cell_type": "markdown",
   "metadata": {},
   "source": [
    "#### The \"response\" variable is a kusto type object and isn't in a classic pandas dataframe"
   ]
  },
  {
   "cell_type": "code",
   "execution_count": 4,
   "metadata": {},
   "outputs": [
    {
     "data": {
      "text/plain": [
       "<azure.kusto.data._response.KustoResponseDataSetV2 at 0x1fc4384d3c8>"
      ]
     },
     "execution_count": 4,
     "metadata": {},
     "output_type": "execute_result"
    }
   ],
   "source": [
    "#you can see that \"response\" is a kusto response data table\n",
    "response"
   ]
  },
  {
   "cell_type": "code",
   "execution_count": 5,
   "metadata": {},
   "outputs": [],
   "source": [
    "#a new feature added by the Kusto Python SDK allows you to convert a kusto data table from a query into a pandas dataframe\n",
    "df = dataframe_from_result_table(response.primary_results[0])"
   ]
  },
  {
   "cell_type": "code",
   "execution_count": 6,
   "metadata": {},
   "outputs": [
    {
     "data": {
      "text/html": [
       "<div>\n",
       "<style scoped>\n",
       "    .dataframe tbody tr th:only-of-type {\n",
       "        vertical-align: middle;\n",
       "    }\n",
       "\n",
       "    .dataframe tbody tr th {\n",
       "        vertical-align: top;\n",
       "    }\n",
       "\n",
       "    .dataframe thead th {\n",
       "        text-align: right;\n",
       "    }\n",
       "</style>\n",
       "<table border=\"1\" class=\"dataframe\">\n",
       "  <thead>\n",
       "    <tr style=\"text-align: right;\">\n",
       "      <th></th>\n",
       "      <th>StartTime</th>\n",
       "      <th>EndTime</th>\n",
       "      <th>EpisodeId</th>\n",
       "      <th>EventId</th>\n",
       "      <th>State</th>\n",
       "      <th>EventType</th>\n",
       "      <th>InjuriesDirect</th>\n",
       "      <th>InjuriesIndirect</th>\n",
       "      <th>DeathsDirect</th>\n",
       "      <th>DeathsIndirect</th>\n",
       "      <th>...</th>\n",
       "      <th>Source</th>\n",
       "      <th>BeginLocation</th>\n",
       "      <th>EndLocation</th>\n",
       "      <th>BeginLat</th>\n",
       "      <th>BeginLon</th>\n",
       "      <th>EndLat</th>\n",
       "      <th>EndLon</th>\n",
       "      <th>EpisodeNarrative</th>\n",
       "      <th>EventNarrative</th>\n",
       "      <th>StormSummary</th>\n",
       "    </tr>\n",
       "  </thead>\n",
       "  <tbody>\n",
       "    <tr>\n",
       "      <th>0</th>\n",
       "      <td>2007-09-29 08:11:00</td>\n",
       "      <td>2007-09-29 08:11:00</td>\n",
       "      <td>11091</td>\n",
       "      <td>61032</td>\n",
       "      <td>ATLANTIC SOUTH</td>\n",
       "      <td>Waterspout</td>\n",
       "      <td>0</td>\n",
       "      <td>0</td>\n",
       "      <td>0</td>\n",
       "      <td>0</td>\n",
       "      <td>...</td>\n",
       "      <td>Trained Spotter</td>\n",
       "      <td>MELBOURNE BEACH</td>\n",
       "      <td>MELBOURNE BEACH</td>\n",
       "      <td>28.0393</td>\n",
       "      <td>-80.6048</td>\n",
       "      <td>28.0393</td>\n",
       "      <td>-80.6048</td>\n",
       "      <td>Showers and thunderstorms lingering along the ...</td>\n",
       "      <td>A waterspout formed in the Atlantic southeast ...</td>\n",
       "      <td>{'TotalDamages': 0, 'StartTime': '2007-09-29T0...</td>\n",
       "    </tr>\n",
       "    <tr>\n",
       "      <th>1</th>\n",
       "      <td>2007-09-18 20:00:00</td>\n",
       "      <td>2007-09-19 18:00:00</td>\n",
       "      <td>11074</td>\n",
       "      <td>60904</td>\n",
       "      <td>FLORIDA</td>\n",
       "      <td>Heavy Rain</td>\n",
       "      <td>0</td>\n",
       "      <td>0</td>\n",
       "      <td>0</td>\n",
       "      <td>0</td>\n",
       "      <td>...</td>\n",
       "      <td>Trained Spotter</td>\n",
       "      <td>ORMOND BEACH</td>\n",
       "      <td>NEW SMYRNA BEACH</td>\n",
       "      <td>29.2800</td>\n",
       "      <td>-81.0500</td>\n",
       "      <td>29.0200</td>\n",
       "      <td>-80.9300</td>\n",
       "      <td>Thunderstorms lingered over Volusia County.</td>\n",
       "      <td>As much as 9 inches of rain fell in a 24-hour ...</td>\n",
       "      <td>{'TotalDamages': 0, 'StartTime': '2007-09-18T2...</td>\n",
       "    </tr>\n",
       "    <tr>\n",
       "      <th>2</th>\n",
       "      <td>2007-09-20 21:57:00</td>\n",
       "      <td>2007-09-20 22:05:00</td>\n",
       "      <td>11078</td>\n",
       "      <td>60913</td>\n",
       "      <td>FLORIDA</td>\n",
       "      <td>Tornado</td>\n",
       "      <td>0</td>\n",
       "      <td>0</td>\n",
       "      <td>0</td>\n",
       "      <td>0</td>\n",
       "      <td>...</td>\n",
       "      <td>NWS Storm Survey</td>\n",
       "      <td>EUSTIS</td>\n",
       "      <td>EUSTIS</td>\n",
       "      <td>28.8368</td>\n",
       "      <td>-81.6763</td>\n",
       "      <td>28.8628</td>\n",
       "      <td>-81.6846</td>\n",
       "      <td>As Tropical Depression number 10 began to slow...</td>\n",
       "      <td>A tornado touched down in the Town of Eustis a...</td>\n",
       "      <td>{'TotalDamages': 6200000, 'StartTime': '2007-0...</td>\n",
       "    </tr>\n",
       "  </tbody>\n",
       "</table>\n",
       "<p>3 rows × 22 columns</p>\n",
       "</div>"
      ],
      "text/plain": [
       "            StartTime             EndTime  EpisodeId  EventId           State  \\\n",
       "0 2007-09-29 08:11:00 2007-09-29 08:11:00      11091    61032  ATLANTIC SOUTH   \n",
       "1 2007-09-18 20:00:00 2007-09-19 18:00:00      11074    60904         FLORIDA   \n",
       "2 2007-09-20 21:57:00 2007-09-20 22:05:00      11078    60913         FLORIDA   \n",
       "\n",
       "    EventType  InjuriesDirect  InjuriesIndirect  DeathsDirect  DeathsIndirect  \\\n",
       "0  Waterspout               0                 0             0               0   \n",
       "1  Heavy Rain               0                 0             0               0   \n",
       "2     Tornado               0                 0             0               0   \n",
       "\n",
       "                         ...                                    Source  \\\n",
       "0                        ...                           Trained Spotter   \n",
       "1                        ...                           Trained Spotter   \n",
       "2                        ...                          NWS Storm Survey   \n",
       "\n",
       "     BeginLocation       EndLocation BeginLat BeginLon   EndLat   EndLon  \\\n",
       "0  MELBOURNE BEACH   MELBOURNE BEACH  28.0393 -80.6048  28.0393 -80.6048   \n",
       "1     ORMOND BEACH  NEW SMYRNA BEACH  29.2800 -81.0500  29.0200 -80.9300   \n",
       "2           EUSTIS            EUSTIS  28.8368 -81.6763  28.8628 -81.6846   \n",
       "\n",
       "                                    EpisodeNarrative  \\\n",
       "0  Showers and thunderstorms lingering along the ...   \n",
       "1        Thunderstorms lingered over Volusia County.   \n",
       "2  As Tropical Depression number 10 began to slow...   \n",
       "\n",
       "                                      EventNarrative  \\\n",
       "0  A waterspout formed in the Atlantic southeast ...   \n",
       "1  As much as 9 inches of rain fell in a 24-hour ...   \n",
       "2  A tornado touched down in the Town of Eustis a...   \n",
       "\n",
       "                                        StormSummary  \n",
       "0  {'TotalDamages': 0, 'StartTime': '2007-09-29T0...  \n",
       "1  {'TotalDamages': 0, 'StartTime': '2007-09-18T2...  \n",
       "2  {'TotalDamages': 6200000, 'StartTime': '2007-0...  \n",
       "\n",
       "[3 rows x 22 columns]"
      ]
     },
     "execution_count": 6,
     "metadata": {},
     "output_type": "execute_result"
    }
   ],
   "source": [
    "df.head(3)"
   ]
  },
  {
   "cell_type": "markdown",
   "metadata": {},
   "source": [
    "#### Quick Tip: working with Dynamic fields in Kusto Python SDK "
   ]
  },
  {
   "cell_type": "markdown",
   "metadata": {},
   "source": [
    "#### Note we are taking a slightly different approach to connecting to the Kusto Cluster"
   ]
  },
  {
   "cell_type": "code",
   "execution_count": 7,
   "metadata": {},
   "outputs": [
    {
     "name": "stdout",
     "output_type": "stream",
     "text": [
      "To sign in, use a web browser to open the page https://microsoft.com/devicelogin and enter the code BZV9FYU29 to authenticate.\n"
     ]
    }
   ],
   "source": [
    "#change cluster \n",
    "cga = \"https://cgadataout.kusto.windows.net:443\"\n",
    "cga_conn = KustoConnectionStringBuilder.with_aad_device_authentication(cga)\n",
    "cga_client = KustoClient(cga_conn)\n",
    "#creating a client that specifically connects to the CGA cluster, makes it easier if working with different clusters\n",
    "cga_client.execute(\"CustomerModel\", \".show version\") \n",
    "#de-couples the execute and query, this way the SDK doesn't have to confirm the connection to the cluster every time a query is executed\n",
    "cga_db = 'CustomerModel'"
   ]
  },
  {
   "cell_type": "code",
   "execution_count": 8,
   "metadata": {},
   "outputs": [],
   "source": [
    "#this query contains a Dynamic Kusto data field\n",
    "kusto_json = \"vwAllCustomerActivity(ago(900d), now()) | where ActivityClassId == 'PluralSightActivities'\" \n",
    "\n",
    "#executes a KQL statement and stores it as a KQL data table\n",
    "#note that we use \"execute_query\" rather than execute, since we are already connected to the cluster \n",
    "table_with_json = cga_client.execute_query(cga_db, kusto_json) "
   ]
  },
  {
   "cell_type": "code",
   "execution_count": 9,
   "metadata": {},
   "outputs": [],
   "source": [
    "#this code converts the dynamic field in the Kusto query into a dataframe\n",
    "# the dynamic field still remains a JSON like data type  \n",
    "df2 = dataframe_from_result_table(table_with_json.primary_results[0])"
   ]
  },
  {
   "cell_type": "code",
   "execution_count": 10,
   "metadata": {},
   "outputs": [
    {
     "data": {
      "text/html": [
       "<div>\n",
       "<style scoped>\n",
       "    .dataframe tbody tr th:only-of-type {\n",
       "        vertical-align: middle;\n",
       "    }\n",
       "\n",
       "    .dataframe tbody tr th {\n",
       "        vertical-align: top;\n",
       "    }\n",
       "\n",
       "    .dataframe thead th {\n",
       "        text-align: right;\n",
       "    }\n",
       "</style>\n",
       "<table border=\"1\" class=\"dataframe\">\n",
       "  <thead>\n",
       "    <tr style=\"text-align: right;\">\n",
       "      <th></th>\n",
       "      <th>Timeline</th>\n",
       "      <th>CustomerKeyType</th>\n",
       "      <th>CustomerKeyValue</th>\n",
       "      <th>ActivityClassId</th>\n",
       "      <th>Properties</th>\n",
       "    </tr>\n",
       "  </thead>\n",
       "  <tbody>\n",
       "    <tr>\n",
       "      <th>0</th>\n",
       "      <td>2017-09-28</td>\n",
       "      <td>ANID</td>\n",
       "      <td>0B538A0E96F391FF3FDF0AC1FFFFFFFF</td>\n",
       "      <td>PluralSightActivities</td>\n",
       "      <td>{'CourseName': 'Managing Infrastructure with M...</td>\n",
       "    </tr>\n",
       "    <tr>\n",
       "      <th>1</th>\n",
       "      <td>2017-09-28</td>\n",
       "      <td>ANID</td>\n",
       "      <td>0B538A0E96F391FF3FDF0AC1FFFFFFFF</td>\n",
       "      <td>PluralSightActivities</td>\n",
       "      <td>{'CourseName': 'Managing Infrastructure with M...</td>\n",
       "    </tr>\n",
       "    <tr>\n",
       "      <th>2</th>\n",
       "      <td>2017-09-28</td>\n",
       "      <td>ANID</td>\n",
       "      <td>0B538A0E96F391FF3FDF0AC1FFFFFFFF</td>\n",
       "      <td>PluralSightActivities</td>\n",
       "      <td>{'CourseName': 'Managing Infrastructure with M...</td>\n",
       "    </tr>\n",
       "  </tbody>\n",
       "</table>\n",
       "</div>"
      ],
      "text/plain": [
       "    Timeline CustomerKeyType                  CustomerKeyValue  \\\n",
       "0 2017-09-28            ANID  0B538A0E96F391FF3FDF0AC1FFFFFFFF   \n",
       "1 2017-09-28            ANID  0B538A0E96F391FF3FDF0AC1FFFFFFFF   \n",
       "2 2017-09-28            ANID  0B538A0E96F391FF3FDF0AC1FFFFFFFF   \n",
       "\n",
       "         ActivityClassId                                         Properties  \n",
       "0  PluralSightActivities  {'CourseName': 'Managing Infrastructure with M...  \n",
       "1  PluralSightActivities  {'CourseName': 'Managing Infrastructure with M...  \n",
       "2  PluralSightActivities  {'CourseName': 'Managing Infrastructure with M...  "
      ]
     },
     "execution_count": 10,
     "metadata": {},
     "output_type": "execute_result"
    }
   ],
   "source": [
    "df2.head(3)"
   ]
  },
  {
   "cell_type": "code",
   "execution_count": 11,
   "metadata": {},
   "outputs": [],
   "source": [
    "#Once it's in a dataframe we can parse the JSON object like so\n",
    "dfjson = pd.concat([df2.drop(['Properties'], axis=1), df2['Properties'].apply(pd.Series)], axis=1)  \n",
    "#Note: prior versions of the SDK didn't handle KQL that parsed dynamic Kusto data types...\n",
    "#hopefully they add that functionality soon because this method can take several seconds if parsing 100K+ rows\n",
    "#If someone wants to see if this version does let me know and I'll buy you coffee"
   ]
  },
  {
   "cell_type": "code",
   "execution_count": 13,
   "metadata": {},
   "outputs": [
    {
     "data": {
      "text/html": [
       "<div>\n",
       "<style scoped>\n",
       "    .dataframe tbody tr th:only-of-type {\n",
       "        vertical-align: middle;\n",
       "    }\n",
       "\n",
       "    .dataframe tbody tr th {\n",
       "        vertical-align: top;\n",
       "    }\n",
       "\n",
       "    .dataframe thead th {\n",
       "        text-align: right;\n",
       "    }\n",
       "</style>\n",
       "<table border=\"1\" class=\"dataframe\">\n",
       "  <thead>\n",
       "    <tr style=\"text-align: right;\">\n",
       "      <th></th>\n",
       "      <th>Timeline</th>\n",
       "      <th>CustomerKeyType</th>\n",
       "      <th>CustomerKeyValue</th>\n",
       "      <th>ActivityClassId</th>\n",
       "      <th>CourseName</th>\n",
       "      <th>ModuleName</th>\n",
       "      <th>OfferCode</th>\n",
       "      <th>ViewTimeSeconds</th>\n",
       "    </tr>\n",
       "  </thead>\n",
       "  <tbody>\n",
       "    <tr>\n",
       "      <th>0</th>\n",
       "      <td>2017-09-28</td>\n",
       "      <td>ANID</td>\n",
       "      <td>0B538A0E96F391FF3FDF0AC1FFFFFFFF</td>\n",
       "      <td>PluralSightActivities</td>\n",
       "      <td>Managing Infrastructure with Microsoft Azure -...</td>\n",
       "      <td>Course Overview</td>\n",
       "      <td>668-1-UP7V-ABRD</td>\n",
       "      <td>100</td>\n",
       "    </tr>\n",
       "    <tr>\n",
       "      <th>1</th>\n",
       "      <td>2017-09-28</td>\n",
       "      <td>ANID</td>\n",
       "      <td>0B538A0E96F391FF3FDF0AC1FFFFFFFF</td>\n",
       "      <td>PluralSightActivities</td>\n",
       "      <td>Managing Infrastructure with Microsoft Azure -...</td>\n",
       "      <td>Disks and Storage</td>\n",
       "      <td>668-1-UP7V-ABRD</td>\n",
       "      <td>283</td>\n",
       "    </tr>\n",
       "    <tr>\n",
       "      <th>2</th>\n",
       "      <td>2017-09-28</td>\n",
       "      <td>ANID</td>\n",
       "      <td>0B538A0E96F391FF3FDF0AC1FFFFFFFF</td>\n",
       "      <td>PluralSightActivities</td>\n",
       "      <td>Managing Infrastructure with Microsoft Azure -...</td>\n",
       "      <td>Foundational Concepts</td>\n",
       "      <td>668-1-UP7V-ABRD</td>\n",
       "      <td>1612</td>\n",
       "    </tr>\n",
       "  </tbody>\n",
       "</table>\n",
       "</div>"
      ],
      "text/plain": [
       "    Timeline CustomerKeyType                  CustomerKeyValue  \\\n",
       "0 2017-09-28            ANID  0B538A0E96F391FF3FDF0AC1FFFFFFFF   \n",
       "1 2017-09-28            ANID  0B538A0E96F391FF3FDF0AC1FFFFFFFF   \n",
       "2 2017-09-28            ANID  0B538A0E96F391FF3FDF0AC1FFFFFFFF   \n",
       "\n",
       "         ActivityClassId                                         CourseName  \\\n",
       "0  PluralSightActivities  Managing Infrastructure with Microsoft Azure -...   \n",
       "1  PluralSightActivities  Managing Infrastructure with Microsoft Azure -...   \n",
       "2  PluralSightActivities  Managing Infrastructure with Microsoft Azure -...   \n",
       "\n",
       "              ModuleName        OfferCode  ViewTimeSeconds  \n",
       "0        Course Overview  668-1-UP7V-ABRD              100  \n",
       "1      Disks and Storage  668-1-UP7V-ABRD              283  \n",
       "2  Foundational Concepts  668-1-UP7V-ABRD             1612  "
      ]
     },
     "execution_count": 13,
     "metadata": {},
     "output_type": "execute_result"
    }
   ],
   "source": [
    "dfjson.head(3)"
   ]
  },
  {
   "cell_type": "markdown",
   "metadata": {},
   "source": [
    "## Kqlmagic: Jupyter Notebook or Jupyter Lab Plugin for Kusto"
   ]
  },
  {
   "cell_type": "markdown",
   "metadata": {},
   "source": [
    "### [Link to Kqlmagic Starter Notebook](https://mybinder.org/v2/gh/Microsoft/jupyter-Kqlmagic/master?filepath=notebooks%2FQuickStart.ipynb)"
   ]
  },
  {
   "cell_type": "code",
   "execution_count": null,
   "metadata": {},
   "outputs": [],
   "source": []
  }
 ],
 "metadata": {
  "kernelspec": {
   "display_name": "Python 3",
   "language": "python",
   "name": "python3"
  },
  "language_info": {
   "codemirror_mode": {
    "name": "ipython",
    "version": 3
   },
   "file_extension": ".py",
   "mimetype": "text/x-python",
   "name": "python",
   "nbconvert_exporter": "python",
   "pygments_lexer": "ipython3",
   "version": "3.7.3"
  }
 },
 "nbformat": 4,
 "nbformat_minor": 2
}
